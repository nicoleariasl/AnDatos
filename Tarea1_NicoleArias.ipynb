{
  "cells": [
    {
      "cell_type": "markdown",
      "metadata": {
        "id": "view-in-github",
        "colab_type": "text"
      },
      "source": [
        "<a href=\"https://colab.research.google.com/github/nicoleariasl/AnDatos/blob/main/Tarea1_NicoleArias.ipynb\" target=\"_parent\"><img src=\"https://colab.research.google.com/assets/colab-badge.svg\" alt=\"Open In Colab\"/></a>"
      ]
    },
    {
      "cell_type": "code",
      "execution_count": null,
      "metadata": {
        "colab": {
          "base_uri": "https://localhost:8080/"
        },
        "id": "zYk8jqb84SJh",
        "outputId": "cf9073c8-f0f4-4b9d-92f4-4bff14286068"
      },
      "outputs": [
        {
          "name": "stdout",
          "output_type": "stream",
          "text": [
            "Ejercicio 1\n",
            "Ingrese el año: 2014\n",
            "Es año NO Bisiesto\n"
          ]
        }
      ],
      "source": [
        "print(\"Ejercicio 1\")\n",
        "annio = int(input(\"Ingrese el año: \"))\n",
        "if(annio % 400 == 0 ) or (annio % 4 == 0) and (annio % 100 != 0):\n",
        "    print(\"Es año Bisiesto\")\n",
        "else:\n",
        "  print(\"Es año NO Bisiesto\")"
      ]
    },
    {
      "cell_type": "code",
      "execution_count": null,
      "metadata": {
        "colab": {
          "base_uri": "https://localhost:8080/"
        },
        "id": "bV_vAtv_5usM",
        "outputId": "db601e18-79c3-4b5a-c34b-08a859557f97"
      },
      "outputs": [
        {
          "name": "stdout",
          "output_type": "stream",
          "text": [
            "Ingrese un número: 12\n",
            "Diciembre\n"
          ]
        }
      ],
      "source": [
        "switcher={1:\"Enero\",2:\"Febrero\",3:\"Marzo\",4:\"Abril\",5:\"Mayo\",6:\"Junio\",7:\"Julio\",8:\"Agosto\",9:\"Septiembre\",10:\"Octubre\",11:\"Noviembre\",12:\"Diciembre\"}\n",
        "argument = int(input(\"Ingrese un número: \"))\n",
        "mes = switcher.get(argument,\"Mes inválido\")\n",
        "print(mes)"
      ]
    },
    {
      "cell_type": "code",
      "execution_count": null,
      "metadata": {
        "colab": {
          "base_uri": "https://localhost:8080/"
        },
        "id": "jWd6fF2M6L_E",
        "outputId": "a0e02f97-b491-44da-b523-8c947f296582"
      },
      "outputs": [
        {
          "name": "stdout",
          "output_type": "stream",
          "text": [
            "Introduce el capital, el interes y el tiempo apropiado\n",
            "Capital: 50000\n",
            "Interes: 13\n",
            "Tiempo en Annios: 5\n",
            "Monto 56499.99999999999 Colones\n",
            "Monto 63844.999999999985 Colones\n",
            "Monto 72144.84999999998 Colones\n",
            "Monto 81523.68049999997 Colones\n",
            "Monto 92121.75896499996 Colones\n"
          ]
        }
      ],
      "source": [
        "#variables\n",
        "Cap=-1\n",
        "Int=0\n",
        "Tiempo=0\n",
        "while(Cap<0) or (Int<=0) or (Int>=100) or (Tiempo<=0):\n",
        "    print(\"Introduce el capital, el interes y el tiempo apropiado\")\n",
        "    Cap=int(input(\"Capital: \"))\n",
        "    Int=int(input(\"Interes: \"))\n",
        "    Tiempo=int(input(\"Tiempo en Annios: \"))\n",
        "for i in range(Tiempo):\n",
        "  Cap=Cap*(1+ Int/100)\n",
        "  print(\"Monto\", Cap, \"Colones\")"
      ]
    },
    {
      "cell_type": "code",
      "execution_count": null,
      "metadata": {
        "colab": {
          "background_save": true,
          "base_uri": "https://localhost:8080/"
        },
        "id": "plN_FS1q8e4Y",
        "outputId": "192082a6-5868-4775-a7ba-88dc0024319e"
      },
      "outputs": [
        {
          "name": "stdout",
          "output_type": "stream",
          "text": [
            "Digite el numero: \n"
          ]
        }
      ],
      "source": [
        "print(\"Digite el numero: \")\n",
        "num = int(input(\"Numero: \"))\n",
        "\n",
        "\n",
        "while num > 0:\n",
        "  suma = 0\n",
        "  for i in range(1,num + 1):\n",
        "    if(num % i == 0):\n",
        "      suma = suma + i\n",
        "  print(suma)\n",
        "  num = int(input(\"Numero: \"))"
      ]
    },
    {
      "cell_type": "code",
      "execution_count": null,
      "metadata": {
        "id": "DSLzD6Ti9wuI"
      },
      "outputs": [],
      "source": []
    }
  ],
  "metadata": {
    "colab": {
      "provenance": [],
      "include_colab_link": true
    },
    "kernelspec": {
      "display_name": "Python 3",
      "name": "python3"
    },
    "language_info": {
      "name": "python"
    }
  },
  "nbformat": 4,
  "nbformat_minor": 0
}