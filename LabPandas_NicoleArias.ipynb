{
  "nbformat": 4,
  "nbformat_minor": 0,
  "metadata": {
    "colab": {
      "provenance": [],
      "authorship_tag": "ABX9TyOxChGMxniQdaYuy5anKbF+",
      "include_colab_link": true
    },
    "kernelspec": {
      "name": "python3",
      "display_name": "Python 3"
    },
    "language_info": {
      "name": "python"
    }
  },
  "cells": [
    {
      "cell_type": "markdown",
      "metadata": {
        "id": "view-in-github",
        "colab_type": "text"
      },
      "source": [
        "<a href=\"https://colab.research.google.com/github/nicoleariasl/AnDatos/blob/main/LabPandas_NicoleArias.ipynb\" target=\"_parent\"><img src=\"https://colab.research.google.com/assets/colab-badge.svg\" alt=\"Open In Colab\"/></a>"
      ]
    },
    {
      "cell_type": "code",
      "source": [
        "import pandas as pd\n",
        "\n",
        "data = {'Country': ['Costa Rica','India','Brazil'],'Capital':['San Jose','New Delhi','Brasilia'],'Population':[4500000,1303171035,207847528]}\n",
        "df = pd.DataFrame(data,columns=['Country','Capital','Population'])\n",
        "print(df)"
      ],
      "metadata": {
        "colab": {
          "base_uri": "https://localhost:8080/"
        },
        "id": "hqpg5jEeX0Jo",
        "outputId": "eb7ca157-0f75-425a-8ebb-0726845253f6"
      },
      "execution_count": null,
      "outputs": [
        {
          "output_type": "stream",
          "name": "stdout",
          "text": [
            "      Country    Capital  Population\n",
            "0  Costa Rica   San Jose     4500000\n",
            "1       India  New Delhi  1303171035\n",
            "2      Brazil   Brasilia   207847528\n"
          ]
        }
      ]
    },
    {
      "cell_type": "code",
      "source": [
        "print(\"Promedio de los elementos del vector\")\n",
        "Suma=0\n",
        "Media=0\n",
        "Temp=[]\n",
        "print(\"Ingrese cantidad de temperaturas\")\n",
        "N=int(input())\n",
        "\n",
        "for i in range(N):\n",
        "  temperatura=float(input(\"Ingrese la temperatura \"))\n",
        "  Temp.append(temperatura)\n",
        "  Suma=Suma+Temp[i]\n",
        "Media = Suma/N\n",
        "print(Media)"
      ],
      "metadata": {
        "colab": {
          "base_uri": "https://localhost:8080/"
        },
        "id": "vQ4YfscVYu5-",
        "outputId": "9826d586-03d7-4b89-a73f-5c801db14ea8"
      },
      "execution_count": null,
      "outputs": [
        {
          "output_type": "stream",
          "name": "stdout",
          "text": [
            "Promedio de los elementos del vector\n",
            "Ingrese cantidad de temperaturas\n",
            "2\n",
            "Ingrese la temperatura 25\n",
            "Ingrese la temperatura 15\n",
            "20.0\n"
          ]
        }
      ]
    },
    {
      "cell_type": "code",
      "source": [
        "import pandas as pd\n",
        "mascota = pd.DataFrame(\n",
        "    data={\n",
        "        'name':['Minino','Milo','Snoopy','Blanco','LittlePony'],\n",
        "        'type': ['gato','perro','perro','perro','caballo']\n",
        "    },\n",
        "    index=[71,42,11,98,42]\n",
        ")\n",
        "\n",
        "visitas = pd.DataFrame(\n",
        "    data = {\n",
        "        'pet_id': [42,31,71,42,98,42],\n",
        "        'fecha': ['2019-03-15','2019-03-15','2019-04-05','2019-04-06','2019-04-12','2019-04-25'],\n",
        "        'costo': [2000,5000,50000,45000,25000,80000]\n",
        "    }\n",
        ")\n",
        "\n",
        "mascota.index.rename('pet_id',inplace=True)\n",
        "visitas.index.rename('visit_id',inplace=True)\n",
        "print(mascota.query('pet_id==71'))\n",
        "\n",
        "print(visitas['costo'].sum())\n",
        "print(visitas['costo'].min())\n",
        "print(visitas['costo'].max())\n",
        "print(visitas)\n",
        "print(visitas.sort_values(by='costo',ascending=False))\n",
        "tienda=pd.merge(mascota,visitas,how='cross')\n",
        "\n",
        "print(tienda)"
      ],
      "metadata": {
        "colab": {
          "base_uri": "https://localhost:8080/"
        },
        "id": "QU9ljLItb58p",
        "outputId": "80240db8-5551-4304-a698-e8258d73827f"
      },
      "execution_count": null,
      "outputs": [
        {
          "output_type": "stream",
          "name": "stdout",
          "text": [
            "          name  type\n",
            "pet_id              \n",
            "71      Minino  gato\n",
            "207000\n",
            "2000\n",
            "80000\n",
            "          pet_id       fecha  costo\n",
            "visit_id                           \n",
            "0             42  2019-03-15   2000\n",
            "1             31  2019-03-15   5000\n",
            "2             71  2019-04-05  50000\n",
            "3             42  2019-04-06  45000\n",
            "4             98  2019-04-12  25000\n",
            "5             42  2019-04-25  80000\n",
            "          pet_id       fecha  costo\n",
            "visit_id                           \n",
            "5             42  2019-04-25  80000\n",
            "2             71  2019-04-05  50000\n",
            "3             42  2019-04-06  45000\n",
            "4             98  2019-04-12  25000\n",
            "1             31  2019-03-15   5000\n",
            "0             42  2019-03-15   2000\n",
            "          name     type  pet_id       fecha  costo\n",
            "0       Minino     gato      42  2019-03-15   2000\n",
            "1       Minino     gato      31  2019-03-15   5000\n",
            "2       Minino     gato      71  2019-04-05  50000\n",
            "3       Minino     gato      42  2019-04-06  45000\n",
            "4       Minino     gato      98  2019-04-12  25000\n",
            "5       Minino     gato      42  2019-04-25  80000\n",
            "6         Milo    perro      42  2019-03-15   2000\n",
            "7         Milo    perro      31  2019-03-15   5000\n",
            "8         Milo    perro      71  2019-04-05  50000\n",
            "9         Milo    perro      42  2019-04-06  45000\n",
            "10        Milo    perro      98  2019-04-12  25000\n",
            "11        Milo    perro      42  2019-04-25  80000\n",
            "12      Snoopy    perro      42  2019-03-15   2000\n",
            "13      Snoopy    perro      31  2019-03-15   5000\n",
            "14      Snoopy    perro      71  2019-04-05  50000\n",
            "15      Snoopy    perro      42  2019-04-06  45000\n",
            "16      Snoopy    perro      98  2019-04-12  25000\n",
            "17      Snoopy    perro      42  2019-04-25  80000\n",
            "18      Blanco    perro      42  2019-03-15   2000\n",
            "19      Blanco    perro      31  2019-03-15   5000\n",
            "20      Blanco    perro      71  2019-04-05  50000\n",
            "21      Blanco    perro      42  2019-04-06  45000\n",
            "22      Blanco    perro      98  2019-04-12  25000\n",
            "23      Blanco    perro      42  2019-04-25  80000\n",
            "24  LittlePony  caballo      42  2019-03-15   2000\n",
            "25  LittlePony  caballo      31  2019-03-15   5000\n",
            "26  LittlePony  caballo      71  2019-04-05  50000\n",
            "27  LittlePony  caballo      42  2019-04-06  45000\n",
            "28  LittlePony  caballo      98  2019-04-12  25000\n",
            "29  LittlePony  caballo      42  2019-04-25  80000\n"
          ]
        }
      ]
    },
    {
      "cell_type": "code",
      "execution_count": null,
      "metadata": {
        "colab": {
          "base_uri": "https://localhost:8080/"
        },
        "id": "_hrcCXCDVE5P",
        "outputId": "a7b12c3a-e8bd-4fd5-c5ae-35792a352f1e"
      },
      "outputs": [
        {
          "output_type": "stream",
          "name": "stdout",
          "text": [
            "    Nombre  Edad    Ciudad Seccion\n",
            "0      Ana    23  San Jose       A\n",
            "1  Esteban    22   Heredia       B\n",
            "2     Juan    22   Cartago       A\n",
            "3    Karla    22     Limon       A\n",
            "4  Ernesto    21   Heredia       B\n",
            "\n",
            "Ingrese el nombre de la columna\n",
            "Edad\n",
            "\n",
            "\n",
            "0    23\n",
            "1    22\n",
            "2    22\n",
            "3    22\n",
            "4    21\n",
            "Name: Edad, dtype: int64\n",
            "Index positions of 22 in DataFrame : \n",
            "(0, 'Seccion')\n",
            "(2, 'Seccion')\n",
            "(3, 'Seccion')\n",
            "Index positions of 22 in DataFrame : \n",
            "(4, 'Edad')\n"
          ]
        }
      ],
      "source": [
        "import pandas as pd\n",
        "\n",
        "#Ejercicio 1\n",
        "students = [('Ana',23,'San Jose','A'),('Esteban',22,'Heredia','B'),('Juan',22,'Cartago','A'),('Karla',22,'Limon','A'),('Ernesto',21,'Heredia','B')]\n",
        "df = pd.DataFrame(students,columns=['Nombre','Edad','Ciudad','Seccion'])\n",
        "\n",
        "#Ejercicio 2\n",
        "print(df)\n",
        "\n",
        "#Ejercicio 3\n",
        "\n",
        "def ret(nombre):\n",
        " print(df.loc[:,nombre])\n",
        "\n",
        "\n",
        "print(\"\\nIngrese el nombre de la columna\")\n",
        "nom=input()\n",
        "print(\"\\n\")\n",
        "ret(nom)\n",
        "\n",
        "#Ejericio 4\n",
        "def getIndexes(dfObj,value):\n",
        "  listOfPos = []\n",
        "  result = dfObj.isin([value])\n",
        "  seriesObj = result.any()\n",
        "  columnNames = list(seriesObj[seriesObj == True].index)\n",
        "\n",
        "  for col in columnNames:\n",
        "    rows = list(result[col][result[col] == True].index)\n",
        "\n",
        "  for row in rows:\n",
        "    listOfPos.append((row,col))\n",
        "  return listOfPos\n",
        "\n",
        "\n",
        "#Ejercicio 5\n",
        "getIndexes(df,'A')\n",
        "\n",
        "#Ejercicio 6 \n",
        "\n",
        "listOfPositions = getIndexes(df,'A')\n",
        "print('Index positions of 22 in DataFrame : ')\n",
        "for i in range(len(listOfPositions)):\n",
        "  print(listOfPositions[i])\n",
        "\n",
        "#Ejercicio 7\n",
        "listOfPositions = getIndexes(df,21)\n",
        "print('Index positions of 22 in DataFrame : ')\n",
        "for i in range(len(listOfPositions)):\n",
        "  print(listOfPositions[i])\n",
        "\n",
        "\n",
        "#Ejercicio 8\n",
        "#Nicole Arias Lizano.\n",
        "#Tiffanny Fernandez.\n",
        "#Alexa Ríos.\n",
        "\n"
      ]
    }
  ]
}