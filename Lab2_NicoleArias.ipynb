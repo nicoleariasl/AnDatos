{
  "nbformat": 4,
  "nbformat_minor": 0,
  "metadata": {
    "colab": {
      "provenance": [],
      "authorship_tag": "ABX9TyNZIr/J5iUcOq/GrngoB1Ny",
      "include_colab_link": true
    },
    "kernelspec": {
      "name": "python3",
      "display_name": "Python 3"
    },
    "language_info": {
      "name": "python"
    }
  },
  "cells": [
    {
      "cell_type": "markdown",
      "metadata": {
        "id": "view-in-github",
        "colab_type": "text"
      },
      "source": [
        "<a href=\"https://colab.research.google.com/github/nicoleariasl/AnDatos/blob/main/Lab2_NicoleArias.ipynb\" target=\"_parent\"><img src=\"https://colab.research.google.com/assets/colab-badge.svg\" alt=\"Open In Colab\"/></a>"
      ]
    },
    {
      "cell_type": "code",
      "execution_count": null,
      "metadata": {
        "colab": {
          "base_uri": "https://localhost:8080/"
        },
        "id": "LC9C3eRz3SQy",
        "outputId": "098f62a5-7eba-4d1b-d96a-0ca0b26c8a7e"
      },
      "outputs": [
        {
          "output_type": "stream",
          "name": "stdout",
          "text": [
            "--------------------------\n",
            "Ejemplo2: IMPRIMIR EL MENOR DE DOS NUMEROS.\n",
            "--------------------------\n",
            "Ingrese 2 números: \n",
            "Primero número: 10\n",
            "Segundo número: 15\n",
            "\n",
            "SALIDA: \n",
            "--------------------------\n",
            "El menor es:  10\n"
          ]
        }
      ],
      "source": [
        "print(\"--------------------------\")\n",
        "print(\"Ejemplo2: IMPRIMIR EL MENOR DE DOS NUMEROS.\")\n",
        "print(\"--------------------------\")\n",
        "\n",
        "#Entradas\n",
        "\n",
        "print(\"Ingrese 2 números: \")\n",
        "x = int(input(\"Primero número: \"))\n",
        "y = int(input(\"Segundo número: \"))\n",
        "print(\"\\nSALIDA: \")\n",
        "print(\"--------------------------\")\n",
        "\n",
        "if x > y:\n",
        "    print(\"El menor es: \",y)\n",
        "else:\n",
        "    print(\"El menor es: \",x)"
      ]
    },
    {
      "cell_type": "code",
      "source": [
        "switcher={1:\"Enero\",2:\"Febrero\",3:\"Marzo\",4:\"Abril\",5:\"Mayo\",6:\"Junio\",7:\"Julio\",8:\"Agosto\",9:\"Septiembre\",10:\"Octubre\",11:\"Noviembre\",12:\"Diciembre\"}\n",
        "argument = int(input(\"Ingrese un número: \"))\n",
        "nameMes = switcher.get(argument,\"Mes inválido\")\n",
        "print(nameMes)"
      ],
      "metadata": {
        "colab": {
          "base_uri": "https://localhost:8080/"
        },
        "id": "7yLg9uDI5Zs_",
        "outputId": "2461d1c1-f443-4577-d699-24556ab51f98"
      },
      "execution_count": null,
      "outputs": [
        {
          "output_type": "stream",
          "name": "stdout",
          "text": [
            "Ingrese un número: 5\n",
            "Mayo\n"
          ]
        }
      ]
    }
  ]
}