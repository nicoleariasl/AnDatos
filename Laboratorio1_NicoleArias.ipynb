{
  "nbformat": 4,
  "nbformat_minor": 0,
  "metadata": {
    "colab": {
      "provenance": [],
      "authorship_tag": "ABX9TyMChA/bI6/COImxZ6Al9ohP",
      "include_colab_link": true
    },
    "kernelspec": {
      "name": "python3",
      "display_name": "Python 3"
    },
    "language_info": {
      "name": "python"
    }
  },
  "cells": [
    {
      "cell_type": "markdown",
      "metadata": {
        "id": "view-in-github",
        "colab_type": "text"
      },
      "source": [
        "<a href=\"https://colab.research.google.com/github/nicoleariasl/AnDatos/blob/main/Laboratorio1_NicoleArias.ipynb\" target=\"_parent\"><img src=\"https://colab.research.google.com/assets/colab-badge.svg\" alt=\"Open In Colab\"/></a>"
      ]
    },
    {
      "cell_type": "code",
      "execution_count": null,
      "metadata": {
        "colab": {
          "base_uri": "https://localhost:8080/"
        },
        "id": "T8srSUOdHVsh",
        "outputId": "de09d09c-1fec-4272-870b-12d30e98a070"
      },
      "outputs": [
        {
          "output_type": "stream",
          "name": "stdout",
          "text": [
            "Ejercicio #1 Calcular distancia\n",
            "Ingrese la velocidad y el tiempo de la unidad movil\n",
            "Ingrese la velocidad: 10\n",
            "Ingrese el tiempo: 50\n",
            "La distancia es: 500.0\n"
          ]
        }
      ],
      "source": [
        "print(\"Ejercicio #1 Calcular distancia\")\n",
        "print(\"Ingrese la velocidad y el tiempo de la unidad movil\")\n",
        "v = float(input(\"Ingrese la velocidad: \"))\n",
        "t = float(input(\"Ingrese el tiempo: \"))\n",
        "print(\"La distancia es: \"+str(v*t))"
      ]
    },
    {
      "cell_type": "code",
      "source": [
        "print(\"Ejercicio #2 Promedio notas\")\n",
        "nota1 = float(input(\"Ingrese la nota 1: \"))\n",
        "nota2 = float(input(\"Ingrese la nota 2: \"))\n",
        "nota3 = float(input(\"Ingrese la nota 3: \"))\n",
        "print(\"El promedio de las notas es de: \"+str((nota1+nota2+nota3)/3))"
      ],
      "metadata": {
        "colab": {
          "base_uri": "https://localhost:8080/"
        },
        "id": "P2SUj0bOIk9V",
        "outputId": "e1e26a09-3d12-412a-cd0e-1b1b7abeb7f6"
      },
      "execution_count": null,
      "outputs": [
        {
          "output_type": "stream",
          "name": "stdout",
          "text": [
            "Ejercicio #2 Promedio notas\n",
            "Ingrese la nota 1: 85\n",
            "Ingrese la nota 2: 60\n",
            "Ingrese la nota 3: 80\n",
            "El promedio de las notas es de: 75.0\n"
          ]
        }
      ]
    },
    {
      "cell_type": "code",
      "source": [
        "print(\"Ejercicio #3 Numero de respuestas\")\n",
        "rc = float(input(\"Ingrese el numero de respuestas correctas: \"))\n",
        "ri = float(input(\"Ingrese el numero de respuestas incorrectas: \"))\n",
        "rb = float(input(\"Ingrese el numero de respuestas en blanco: \"))\n",
        "print(\"El promedio de las notas es de: \"+str(rc*3+ri*-1+rb*0))"
      ],
      "metadata": {
        "colab": {
          "base_uri": "https://localhost:8080/"
        },
        "id": "ckcHo2lzK5W9",
        "outputId": "5da7a7d5-c9ad-4d24-88c6-d1aa4169bd7b"
      },
      "execution_count": null,
      "outputs": [
        {
          "output_type": "stream",
          "name": "stdout",
          "text": [
            "Ejercicio #3 Numero de respuestas\n",
            "Ingrese el numero de respuestas correctas: 5\n",
            "Ingrese el numero de respuestas incorrectas: 2\n",
            "Ingrese el numero de respuestas en blanco: 0\n",
            "El promedio de las notas es de: 13.0\n"
          ]
        }
      ]
    }
  ]
}